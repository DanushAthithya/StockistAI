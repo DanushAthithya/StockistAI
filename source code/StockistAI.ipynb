{
 "cells": [
  {
   "cell_type": "code",
   "execution_count": 1,
   "metadata": {},
   "outputs": [],
   "source": [
    "#Essential modules \n",
    "\n",
    "import pandas as pd\n",
    "import numpy as np\n",
    "\n",
    "#Visualisation libraries \n",
    "import seaborn as sns\n",
    "import matplotlib.pyplot as plt\n",
    "%matplotlib inline\n",
    "import graphviz\n",
    "from sklearn.tree import export_graphviz\n",
    "\n",
    "#Encoding \n",
    "from sklearn.preprocessing import LabelEncoder\n",
    "import category_encoders as ce\n",
    "\n",
    "#Normalization\n",
    "\n",
    "from sklearn.preprocessing import MinMaxScaler\n",
    "from scipy import stats\n",
    "\n",
    "#Model Building\n",
    "\n",
    "from sklearn import model_selection\n",
    "from sklearn.model_selection import train_test_split,StratifiedKFold\n",
    "\n",
    "##Classifiers \n",
    "\n",
    "#Decision tree\n",
    "from sklearn import tree\n",
    "from sklearn.tree import DecisionTreeClassifier\n",
    "\n",
    "#Random Forest\n",
    "from sklearn.ensemble import RandomForestClassifier\n",
    "\n",
    "#Boosting \n",
    "from sklearn.ensemble import AdaBoostClassifier\n",
    "from sklearn.ensemble import GradientBoostingClassifier\n",
    "from xgboost import XGBClassifier\n",
    "#from catboost import CatBoostClassifier\n",
    "#from lightgbm import LGBMClassifier\n",
    "\n",
    "#Bagging \n",
    "from sklearn.ensemble import BaggingClassifier\n",
    "from sklearn.datasets import make_classification #for bootstrapping\n",
    "\n",
    "#KFold \n",
    "from sklearn.model_selection import KFold\n",
    "from sklearn.model_selection import cross_val_score\n",
    "from sklearn.model_selection import StratifiedKFold\n",
    "from sklearn.model_selection import cross_validate\n",
    "\n",
    "#Evaluation libraries \n",
    "from sklearn.metrics import recall_score\n",
    "from sklearn.metrics import plot_confusion_matrix, confusion_matrix\n",
    "from sklearn.metrics import classification_report, accuracy_score\n",
    "from sklearn.metrics import roc_auc_score, roc_curve\n",
    "\n",
    "# surpress warnings\n",
    "import warnings\n",
    "warnings.filterwarnings('ignore')\n",
    "\n",
    "# Timer\n",
    "import timeit\n",
    "\n",
    "# interactive use of matplotlib\n",
    "%matplotlib inline"
   ]
  },
  {
   "cell_type": "code",
   "execution_count": 2,
   "metadata": {},
   "outputs": [],
   "source": [
    "stock_data = pd.read_excel('D:\\Cudos Hackathon\\stocks dataset\\stock_2021_rec.csv.xlsx')"
   ]
  },
  {
   "cell_type": "code",
   "execution_count": 3,
   "metadata": {},
   "outputs": [
    {
     "data": {
      "text/html": [
       "<div>\n",
       "<style scoped>\n",
       "    .dataframe tbody tr th:only-of-type {\n",
       "        vertical-align: middle;\n",
       "    }\n",
       "\n",
       "    .dataframe tbody tr th {\n",
       "        vertical-align: top;\n",
       "    }\n",
       "\n",
       "    .dataframe thead th {\n",
       "        text-align: right;\n",
       "    }\n",
       "</style>\n",
       "<table border=\"1\" class=\"dataframe\">\n",
       "  <thead>\n",
       "    <tr style=\"text-align: right;\">\n",
       "      <th></th>\n",
       "      <th>Date</th>\n",
       "      <th>Symbol</th>\n",
       "      <th>Series</th>\n",
       "      <th>Prev Close</th>\n",
       "      <th>Open</th>\n",
       "      <th>High</th>\n",
       "      <th>Low</th>\n",
       "      <th>Last</th>\n",
       "      <th>Close</th>\n",
       "      <th>VWAP</th>\n",
       "      <th>Volume</th>\n",
       "      <th>Turnover</th>\n",
       "      <th>Trades</th>\n",
       "      <th>Deliverable Volume</th>\n",
       "      <th>%Deliverble</th>\n",
       "    </tr>\n",
       "  </thead>\n",
       "  <tbody>\n",
       "    <tr>\n",
       "      <th>0</th>\n",
       "      <td>2021-01-01 00:00:00</td>\n",
       "      <td>ADANIPORTS</td>\n",
       "      <td>EQ</td>\n",
       "      <td>483.75</td>\n",
       "      <td>485</td>\n",
       "      <td>508</td>\n",
       "      <td>482.55</td>\n",
       "      <td>505</td>\n",
       "      <td>503.85</td>\n",
       "      <td>495.57</td>\n",
       "      <td>7815730</td>\n",
       "      <td>387000000000000</td>\n",
       "      <td>79171</td>\n",
       "      <td>834159</td>\n",
       "      <td>0.1067</td>\n",
       "    </tr>\n",
       "    <tr>\n",
       "      <th>1</th>\n",
       "      <td>2021-01-01 00:00:00</td>\n",
       "      <td>ADANIPORTS</td>\n",
       "      <td>EQ</td>\n",
       "      <td>483.75</td>\n",
       "      <td>485</td>\n",
       "      <td>508</td>\n",
       "      <td>482.55</td>\n",
       "      <td>505</td>\n",
       "      <td>503.85</td>\n",
       "      <td>495.57</td>\n",
       "      <td>7815730</td>\n",
       "      <td>387000000000000</td>\n",
       "      <td>79171</td>\n",
       "      <td>834159</td>\n",
       "      <td>0.1067</td>\n",
       "    </tr>\n",
       "    <tr>\n",
       "      <th>2</th>\n",
       "      <td>2021-01-04 00:00:00</td>\n",
       "      <td>ADANIPORTS</td>\n",
       "      <td>EQ</td>\n",
       "      <td>503.85</td>\n",
       "      <td>507</td>\n",
       "      <td>510.9</td>\n",
       "      <td>495.2</td>\n",
       "      <td>498.1</td>\n",
       "      <td>498.9</td>\n",
       "      <td>501.35</td>\n",
       "      <td>9998803</td>\n",
       "      <td>501000000000000</td>\n",
       "      <td>88263</td>\n",
       "      <td>1356432</td>\n",
       "      <td>0.1357</td>\n",
       "    </tr>\n",
       "    <tr>\n",
       "      <th>3</th>\n",
       "      <td>2021-01-04 00:00:00</td>\n",
       "      <td>ADANIPORTS</td>\n",
       "      <td>EQ</td>\n",
       "      <td>503.85</td>\n",
       "      <td>507</td>\n",
       "      <td>510.9</td>\n",
       "      <td>495.2</td>\n",
       "      <td>498.1</td>\n",
       "      <td>498.9</td>\n",
       "      <td>501.35</td>\n",
       "      <td>9998803</td>\n",
       "      <td>501000000000000</td>\n",
       "      <td>88263</td>\n",
       "      <td>1356432</td>\n",
       "      <td>0.1357</td>\n",
       "    </tr>\n",
       "    <tr>\n",
       "      <th>4</th>\n",
       "      <td>2021-01-05 00:00:00</td>\n",
       "      <td>ADANIPORTS</td>\n",
       "      <td>EQ</td>\n",
       "      <td>498.9</td>\n",
       "      <td>498.9</td>\n",
       "      <td>504.5</td>\n",
       "      <td>492</td>\n",
       "      <td>498.75</td>\n",
       "      <td>499.45</td>\n",
       "      <td>499.14</td>\n",
       "      <td>5135408</td>\n",
       "      <td>256000000000000</td>\n",
       "      <td>57609</td>\n",
       "      <td>673387</td>\n",
       "      <td>0.1311</td>\n",
       "    </tr>\n",
       "  </tbody>\n",
       "</table>\n",
       "</div>"
      ],
      "text/plain": [
       "                  Date      Symbol Series Prev Close   Open   High     Low  \\\n",
       "0  2021-01-01 00:00:00  ADANIPORTS     EQ     483.75    485    508  482.55   \n",
       "1  2021-01-01 00:00:00  ADANIPORTS     EQ     483.75    485    508  482.55   \n",
       "2  2021-01-04 00:00:00  ADANIPORTS     EQ     503.85    507  510.9   495.2   \n",
       "3  2021-01-04 00:00:00  ADANIPORTS     EQ     503.85    507  510.9   495.2   \n",
       "4  2021-01-05 00:00:00  ADANIPORTS     EQ      498.9  498.9  504.5     492   \n",
       "\n",
       "     Last   Close    VWAP   Volume         Turnover Trades Deliverable Volume  \\\n",
       "0     505  503.85  495.57  7815730  387000000000000  79171             834159   \n",
       "1     505  503.85  495.57  7815730  387000000000000  79171             834159   \n",
       "2   498.1   498.9  501.35  9998803  501000000000000  88263            1356432   \n",
       "3   498.1   498.9  501.35  9998803  501000000000000  88263            1356432   \n",
       "4  498.75  499.45  499.14  5135408  256000000000000  57609             673387   \n",
       "\n",
       "  %Deliverble  \n",
       "0      0.1067  \n",
       "1      0.1067  \n",
       "2      0.1357  \n",
       "3      0.1357  \n",
       "4      0.1311  "
      ]
     },
     "execution_count": 3,
     "metadata": {},
     "output_type": "execute_result"
    }
   ],
   "source": [
    "stock_data.head()"
   ]
  },
  {
   "cell_type": "code",
   "execution_count": 4,
   "metadata": {},
   "outputs": [],
   "source": [
    "def printColumnTypes(df):\n",
    "    non_num_df = df.select_dtypes(include=['object'])\n",
    "    num_df = df.select_dtypes(exclude=['object'])\n",
    "    '''separates non-numeric and numeric columns'''\n",
    "    print(\"Non-Numeric columns:\")\n",
    "    for col in non_num_df:\n",
    "        print(f\"{col}\")\n",
    "    print(\"\")\n",
    "    print(\"Numeric columns:\")\n",
    "    for col in num_df:\n",
    "        print(f\"{col}\")\n",
    "\n",
    "def missing_cols(df):\n",
    "    '''prints out columns with its amount of missing values with its %'''\n",
    "    total = 0\n",
    "    for col in df.columns:\n",
    "        missing_vals = df[col].isnull().sum()\n",
    "        pct = df[col].isna().mean() * 100\n",
    "        total += missing_vals\n",
    "        if missing_vals != 0:\n",
    "          print('{} => {} [{}%]'.format(col, df[col].isnull().sum(), round(pct, 2)))\n",
    "    \n",
    "    if total == 0:\n",
    "        print(\"no missing values\")"
   ]
  },
  {
   "cell_type": "code",
   "execution_count": 5,
   "metadata": {},
   "outputs": [
    {
     "name": "stdout",
     "output_type": "stream",
     "text": [
      "no missing values\n"
     ]
    }
   ],
   "source": [
    "missing_cols(stock_data)"
   ]
  },
  {
   "cell_type": "code",
   "execution_count": 6,
   "metadata": {},
   "outputs": [
    {
     "name": "stdout",
     "output_type": "stream",
     "text": [
      "Non-Numeric columns:\n",
      "Date\n",
      "Symbol\n",
      "Series\n",
      "Prev Close\n",
      "Open\n",
      "High\n",
      "Low\n",
      "Last\n",
      "Close\n",
      "VWAP\n",
      "Volume\n",
      "Turnover\n",
      "Trades\n",
      "Deliverable Volume\n",
      "%Deliverble\n",
      "\n",
      "Numeric columns:\n"
     ]
    }
   ],
   "source": [
    "printColumnTypes(stock_data)"
   ]
  },
  {
   "cell_type": "code",
   "execution_count": 7,
   "metadata": {},
   "outputs": [],
   "source": [
    "# ## Magic code\n",
    "\n",
    "# ## This gives entire profiling of data with visual representation in the form of an html page.\n",
    "\n",
    "# ## Note: It is not recommended to run this block, if the laptop is occupied with some other tasks \n",
    "# ## as it requires a huge amount of memory. \n",
    "# from pandas_profiling import ProfileReport\n",
    "# prof = ProfileReport(stock_data)\n",
    "# prof.to_file(output_file='stock_data_output.html')"
   ]
  },
  {
   "cell_type": "code",
   "execution_count": 8,
   "metadata": {},
   "outputs": [
    {
     "name": "stdout",
     "output_type": "stream",
     "text": [
      "Dimension of dataframe is (7860, 15)\n"
     ]
    }
   ],
   "source": [
    "print('Dimension of dataframe is', stock_data.shape)"
   ]
  },
  {
   "cell_type": "code",
   "execution_count": 9,
   "metadata": {},
   "outputs": [
    {
     "name": "stdout",
     "output_type": "stream",
     "text": [
      "<class 'pandas.core.frame.DataFrame'>\n",
      "RangeIndex: 7860 entries, 0 to 7859\n",
      "Data columns (total 15 columns):\n",
      " #   Column              Non-Null Count  Dtype \n",
      "---  ------              --------------  ----- \n",
      " 0   Date                7860 non-null   object\n",
      " 1   Symbol              7860 non-null   object\n",
      " 2   Series              7860 non-null   object\n",
      " 3   Prev Close          7860 non-null   object\n",
      " 4   Open                7860 non-null   object\n",
      " 5   High                7860 non-null   object\n",
      " 6   Low                 7860 non-null   object\n",
      " 7   Last                7860 non-null   object\n",
      " 8   Close               7860 non-null   object\n",
      " 9   VWAP                7860 non-null   object\n",
      " 10  Volume              7860 non-null   object\n",
      " 11  Turnover            7860 non-null   object\n",
      " 12  Trades              7860 non-null   object\n",
      " 13  Deliverable Volume  7860 non-null   object\n",
      " 14  %Deliverble         7860 non-null   object\n",
      "dtypes: object(15)\n",
      "memory usage: 921.2+ KB\n"
     ]
    }
   ],
   "source": [
    "## method 1\n",
    "\n",
    "stock_data.info()"
   ]
  },
  {
   "cell_type": "code",
   "execution_count": 10,
   "metadata": {},
   "outputs": [
    {
     "name": "stdout",
     "output_type": "stream",
     "text": [
      "Non-Numeric columns:\n",
      "Date\n",
      "Symbol\n",
      "Series\n",
      "Prev Close\n",
      "Open\n",
      "High\n",
      "Low\n",
      "Last\n",
      "Close\n",
      "VWAP\n",
      "Volume\n",
      "Turnover\n",
      "Trades\n",
      "Deliverable Volume\n",
      "%Deliverble\n",
      "\n",
      "Numeric columns:\n"
     ]
    }
   ],
   "source": [
    "## Method 2\n",
    "\n",
    "printColumnTypes(stock_data)"
   ]
  },
  {
   "cell_type": "code",
   "execution_count": 11,
   "metadata": {},
   "outputs": [
    {
     "data": {
      "text/plain": [
       "Date                    81\n",
       "Symbol                  50\n",
       "Series                   2\n",
       "Prev Close            3703\n",
       "Open                  3306\n",
       "High                  3581\n",
       "Low                   3583\n",
       "Last                  3582\n",
       "Close                 3705\n",
       "VWAP                  3883\n",
       "Volume                3921\n",
       "Turnover              1092\n",
       "Trades                3895\n",
       "Deliverable Volume    3921\n",
       "%Deliverble           2715\n",
       "dtype: int64"
      ]
     },
     "execution_count": 11,
     "metadata": {},
     "output_type": "execute_result"
    }
   ],
   "source": [
    "stock_data.nunique()"
   ]
  },
  {
   "cell_type": "code",
   "execution_count": 12,
   "metadata": {},
   "outputs": [
    {
     "data": {
      "text/plain": [
       "97         10\n",
       "1510        8\n",
       "214         8\n",
       "98          8\n",
       "132.3       7\n",
       "           ..\n",
       "128.8       2\n",
       "25607.6     2\n",
       "1502.25     2\n",
       "971.4       2\n",
       "Low         1\n",
       "Name: Low, Length: 3583, dtype: int64"
      ]
     },
     "execution_count": 12,
     "metadata": {},
     "output_type": "execute_result"
    }
   ],
   "source": [
    "stock_data['Low'].value_counts()"
   ]
  },
  {
   "cell_type": "code",
   "execution_count": 13,
   "metadata": {},
   "outputs": [
    {
     "data": {
      "text/plain": [
       "Date                  0\n",
       "Symbol                0\n",
       "Series                0\n",
       "Prev Close            0\n",
       "Open                  0\n",
       "High                  0\n",
       "Low                   0\n",
       "Last                  0\n",
       "Close                 0\n",
       "VWAP                  0\n",
       "Volume                0\n",
       "Turnover              0\n",
       "Trades                0\n",
       "Deliverable Volume    0\n",
       "%Deliverble           0\n",
       "dtype: int64"
      ]
     },
     "execution_count": 13,
     "metadata": {},
     "output_type": "execute_result"
    }
   ],
   "source": [
    "## Method 1\n",
    "\n",
    "stock_data.isnull().sum()"
   ]
  },
  {
   "cell_type": "code",
   "execution_count": 14,
   "metadata": {},
   "outputs": [
    {
     "name": "stdout",
     "output_type": "stream",
     "text": [
      "no missing values\n"
     ]
    }
   ],
   "source": [
    "## Method 2 \n",
    "\n",
    "missing_cols(stock_data)      # Gives percentage of missing values"
   ]
  },
  {
   "cell_type": "code",
   "execution_count": 15,
   "metadata": {},
   "outputs": [
    {
     "data": {
      "text/html": [
       "<div>\n",
       "<style scoped>\n",
       "    .dataframe tbody tr th:only-of-type {\n",
       "        vertical-align: middle;\n",
       "    }\n",
       "\n",
       "    .dataframe tbody tr th {\n",
       "        vertical-align: top;\n",
       "    }\n",
       "\n",
       "    .dataframe thead th {\n",
       "        text-align: right;\n",
       "    }\n",
       "</style>\n",
       "<table border=\"1\" class=\"dataframe\">\n",
       "  <thead>\n",
       "    <tr style=\"text-align: right;\">\n",
       "      <th></th>\n",
       "      <th>Date</th>\n",
       "      <th>Symbol</th>\n",
       "      <th>Series</th>\n",
       "      <th>Prev Close</th>\n",
       "      <th>Open</th>\n",
       "      <th>High</th>\n",
       "      <th>Low</th>\n",
       "      <th>Last</th>\n",
       "      <th>Close</th>\n",
       "      <th>VWAP</th>\n",
       "      <th>Volume</th>\n",
       "      <th>Turnover</th>\n",
       "      <th>Trades</th>\n",
       "      <th>Deliverable Volume</th>\n",
       "      <th>%Deliverble</th>\n",
       "    </tr>\n",
       "  </thead>\n",
       "  <tbody>\n",
       "    <tr>\n",
       "      <th>count</th>\n",
       "      <td>7860</td>\n",
       "      <td>7860</td>\n",
       "      <td>7860</td>\n",
       "      <td>7860.00</td>\n",
       "      <td>7860</td>\n",
       "      <td>7860.0</td>\n",
       "      <td>7860</td>\n",
       "      <td>7860</td>\n",
       "      <td>7860.00</td>\n",
       "      <td>7860.00</td>\n",
       "      <td>7860</td>\n",
       "      <td>7860</td>\n",
       "      <td>7860</td>\n",
       "      <td>7860</td>\n",
       "      <td>7860.0000</td>\n",
       "    </tr>\n",
       "    <tr>\n",
       "      <th>unique</th>\n",
       "      <td>81</td>\n",
       "      <td>50</td>\n",
       "      <td>2</td>\n",
       "      <td>3703.00</td>\n",
       "      <td>3306</td>\n",
       "      <td>3581.0</td>\n",
       "      <td>3583</td>\n",
       "      <td>3582</td>\n",
       "      <td>3705.00</td>\n",
       "      <td>3883.00</td>\n",
       "      <td>3921</td>\n",
       "      <td>1092</td>\n",
       "      <td>3895</td>\n",
       "      <td>3921</td>\n",
       "      <td>2715.0000</td>\n",
       "    </tr>\n",
       "    <tr>\n",
       "      <th>top</th>\n",
       "      <td>2021-04-30 00:00:00</td>\n",
       "      <td>BAJAJFINSV</td>\n",
       "      <td>EQ</td>\n",
       "      <td>99.05</td>\n",
       "      <td>405</td>\n",
       "      <td>99.8</td>\n",
       "      <td>97</td>\n",
       "      <td>133</td>\n",
       "      <td>99.05</td>\n",
       "      <td>104.39</td>\n",
       "      <td>27396950</td>\n",
       "      <td>1050000000000000</td>\n",
       "      <td>135064</td>\n",
       "      <td>3839105</td>\n",
       "      <td>0.1877</td>\n",
       "    </tr>\n",
       "    <tr>\n",
       "      <th>freq</th>\n",
       "      <td>117</td>\n",
       "      <td>161</td>\n",
       "      <td>7859</td>\n",
       "      <td>12.00</td>\n",
       "      <td>14</td>\n",
       "      <td>8.0</td>\n",
       "      <td>10</td>\n",
       "      <td>9</td>\n",
       "      <td>12.00</td>\n",
       "      <td>6.00</td>\n",
       "      <td>3</td>\n",
       "      <td>38</td>\n",
       "      <td>4</td>\n",
       "      <td>3</td>\n",
       "      <td>12.0000</td>\n",
       "    </tr>\n",
       "  </tbody>\n",
       "</table>\n",
       "</div>"
      ],
      "text/plain": [
       "                       Date      Symbol Series  Prev Close  Open    High  \\\n",
       "count                  7860        7860   7860     7860.00  7860  7860.0   \n",
       "unique                   81          50      2     3703.00  3306  3581.0   \n",
       "top     2021-04-30 00:00:00  BAJAJFINSV     EQ       99.05   405    99.8   \n",
       "freq                    117         161   7859       12.00    14     8.0   \n",
       "\n",
       "         Low  Last    Close     VWAP    Volume          Turnover  Trades  \\\n",
       "count   7860  7860  7860.00  7860.00      7860              7860    7860   \n",
       "unique  3583  3582  3705.00  3883.00      3921              1092    3895   \n",
       "top       97   133    99.05   104.39  27396950  1050000000000000  135064   \n",
       "freq      10     9    12.00     6.00         3                38       4   \n",
       "\n",
       "        Deliverable Volume  %Deliverble  \n",
       "count                 7860    7860.0000  \n",
       "unique                3921    2715.0000  \n",
       "top                3839105       0.1877  \n",
       "freq                     3      12.0000  "
      ]
     },
     "execution_count": 15,
     "metadata": {},
     "output_type": "execute_result"
    }
   ],
   "source": [
    "stock_data.describe()"
   ]
  },
  {
   "cell_type": "markdown",
   "metadata": {},
   "source": [
    "## Encoding "
   ]
  },
  {
   "cell_type": "code",
   "execution_count": null,
   "metadata": {},
   "outputs": [],
   "source": []
  },
  {
   "cell_type": "code",
   "execution_count": 16,
   "metadata": {},
   "outputs": [
    {
     "name": "stdout",
     "output_type": "stream",
     "text": [
      "Index(['Date', 'Symbol', 'Series', 'Prev Close', 'Open', 'High', 'Low', 'Last',\n",
      "       'Close', 'VWAP', 'Volume', 'Turnover', 'Trades', 'Deliverable Volume',\n",
      "       '%Deliverble'],\n",
      "      dtype='object')\n"
     ]
    }
   ],
   "source": [
    "objList = stock_data.select_dtypes(include = \"object\").columns\n",
    "print (objList)"
   ]
  },
  {
   "cell_type": "code",
   "execution_count": 17,
   "metadata": {},
   "outputs": [
    {
     "name": "stdout",
     "output_type": "stream",
     "text": [
      "<class 'pandas.core.frame.DataFrame'>\n",
      "RangeIndex: 7860 entries, 0 to 7859\n",
      "Data columns (total 15 columns):\n",
      " #   Column              Non-Null Count  Dtype\n",
      "---  ------              --------------  -----\n",
      " 0   Date                7860 non-null   int32\n",
      " 1   Symbol              7860 non-null   int32\n",
      " 2   Series              7860 non-null   int32\n",
      " 3   Prev Close          7860 non-null   int32\n",
      " 4   Open                7860 non-null   int32\n",
      " 5   High                7860 non-null   int32\n",
      " 6   Low                 7860 non-null   int32\n",
      " 7   Last                7860 non-null   int32\n",
      " 8   Close               7860 non-null   int32\n",
      " 9   VWAP                7860 non-null   int32\n",
      " 10  Volume              7860 non-null   int32\n",
      " 11  Turnover            7860 non-null   int32\n",
      " 12  Trades              7860 non-null   int32\n",
      " 13  Deliverable Volume  7860 non-null   int32\n",
      " 14  %Deliverble         7860 non-null   int32\n",
      "dtypes: int32(15)\n",
      "memory usage: 460.7 KB\n",
      "None\n"
     ]
    }
   ],
   "source": [
    "## Method 1: Label Encoder\n",
    "#Label Encoding for object to numeric conversion\n",
    "\n",
    "le = LabelEncoder()\n",
    "\n",
    "for feat in objList:\n",
    "    stock_data[feat] = le.fit_transform(stock_data[feat].astype(str))\n",
    "\n",
    "print (stock_data.info())"
   ]
  },
  {
   "cell_type": "code",
   "execution_count": 18,
   "metadata": {},
   "outputs": [
    {
     "name": "stdout",
     "output_type": "stream",
     "text": [
      "<class 'pandas.core.frame.DataFrame'>\n",
      "RangeIndex: 7860 entries, 0 to 7859\n",
      "Data columns (total 15 columns):\n",
      " #   Column              Non-Null Count  Dtype\n",
      "---  ------              --------------  -----\n",
      " 0   Date                7860 non-null   int32\n",
      " 1   Symbol              7860 non-null   int32\n",
      " 2   Series              7860 non-null   int32\n",
      " 3   Prev Close          7860 non-null   int32\n",
      " 4   Open                7860 non-null   int32\n",
      " 5   High                7860 non-null   int32\n",
      " 6   Low                 7860 non-null   int32\n",
      " 7   Last                7860 non-null   int32\n",
      " 8   Close               7860 non-null   int32\n",
      " 9   VWAP                7860 non-null   int32\n",
      " 10  Volume              7860 non-null   int32\n",
      " 11  Turnover            7860 non-null   int32\n",
      " 12  Trades              7860 non-null   int32\n",
      " 13  Deliverable Volume  7860 non-null   int32\n",
      " 14  %Deliverble         7860 non-null   int32\n",
      "dtypes: int32(15)\n",
      "memory usage: 460.7 KB\n"
     ]
    }
   ],
   "source": [
    "stock_data.info()"
   ]
  },
  {
   "cell_type": "markdown",
   "metadata": {},
   "source": [
    "## Outliers Detection and Removal (Optional)"
   ]
  },
  {
   "cell_type": "code",
   "execution_count": 19,
   "metadata": {},
   "outputs": [
    {
     "name": "stdout",
     "output_type": "stream",
     "text": [
      "[[1.71070515 1.6748271  0.01128019 ... 1.27059616 1.46812466 1.66373016]\n",
      " [1.71070515 1.6748271  0.01128019 ... 1.27059616 1.46812466 1.66373016]\n",
      " [1.66750622 1.6748271  0.01128019 ... 1.4821431  1.31095352 1.5344623 ]\n",
      " ...\n",
      " [1.65881147 1.72067171 0.01128019 ... 0.84216916 0.21169334 0.34546737]\n",
      " [1.7020104  1.72067171 0.01128019 ... 0.88394523 0.12409353 0.33200197]\n",
      " [1.7020104  1.72067171 0.01128019 ... 0.88394523 0.12409353 0.33200197]]\n"
     ]
    }
   ],
   "source": [
    "## Z-score method is used to detect and remove outliers \n",
    "\n",
    "z = np.abs(stats.zscore(stock_data))\n",
    "print(z)"
   ]
  },
  {
   "cell_type": "code",
   "execution_count": 20,
   "metadata": {},
   "outputs": [
    {
     "name": "stdout",
     "output_type": "stream",
     "text": [
      "(array([6259], dtype=int64), array([2], dtype=int64))\n"
     ]
    }
   ],
   "source": [
    "## It gives indices of the rows with z-score greater than 3 i.e. rows with outliers \n",
    "\n",
    "threshold = 3\n",
    "print(np.where(z > 3))"
   ]
  },
  {
   "cell_type": "code",
   "execution_count": 21,
   "metadata": {},
   "outputs": [
    {
     "data": {
      "text/html": [
       "<div>\n",
       "<style scoped>\n",
       "    .dataframe tbody tr th:only-of-type {\n",
       "        vertical-align: middle;\n",
       "    }\n",
       "\n",
       "    .dataframe tbody tr th {\n",
       "        vertical-align: top;\n",
       "    }\n",
       "\n",
       "    .dataframe thead th {\n",
       "        text-align: right;\n",
       "    }\n",
       "</style>\n",
       "<table border=\"1\" class=\"dataframe\">\n",
       "  <thead>\n",
       "    <tr style=\"text-align: right;\">\n",
       "      <th></th>\n",
       "      <th>Date</th>\n",
       "      <th>Symbol</th>\n",
       "      <th>Series</th>\n",
       "      <th>Prev Close</th>\n",
       "      <th>Open</th>\n",
       "      <th>High</th>\n",
       "      <th>Low</th>\n",
       "      <th>Last</th>\n",
       "      <th>Close</th>\n",
       "      <th>VWAP</th>\n",
       "      <th>Volume</th>\n",
       "      <th>Turnover</th>\n",
       "      <th>Trades</th>\n",
       "      <th>Deliverable Volume</th>\n",
       "      <th>%Deliverble</th>\n",
       "    </tr>\n",
       "  </thead>\n",
       "  <tbody>\n",
       "    <tr>\n",
       "      <th>0</th>\n",
       "      <td>0</td>\n",
       "      <td>0</td>\n",
       "      <td>0</td>\n",
       "      <td>2430</td>\n",
       "      <td>2187</td>\n",
       "      <td>2424</td>\n",
       "      <td>2316</td>\n",
       "      <td>2373</td>\n",
       "      <td>2466</td>\n",
       "      <td>2574</td>\n",
       "      <td>3480</td>\n",
       "      <td>495</td>\n",
       "      <td>3381</td>\n",
       "      <td>3622</td>\n",
       "      <td>85</td>\n",
       "    </tr>\n",
       "    <tr>\n",
       "      <th>1</th>\n",
       "      <td>0</td>\n",
       "      <td>0</td>\n",
       "      <td>0</td>\n",
       "      <td>2430</td>\n",
       "      <td>2187</td>\n",
       "      <td>2424</td>\n",
       "      <td>2316</td>\n",
       "      <td>2373</td>\n",
       "      <td>2466</td>\n",
       "      <td>2574</td>\n",
       "      <td>3480</td>\n",
       "      <td>495</td>\n",
       "      <td>3381</td>\n",
       "      <td>3622</td>\n",
       "      <td>85</td>\n",
       "    </tr>\n",
       "    <tr>\n",
       "      <th>2</th>\n",
       "      <td>1</td>\n",
       "      <td>0</td>\n",
       "      <td>0</td>\n",
       "      <td>2464</td>\n",
       "      <td>2222</td>\n",
       "      <td>2428</td>\n",
       "      <td>2338</td>\n",
       "      <td>2359</td>\n",
       "      <td>2457</td>\n",
       "      <td>2585</td>\n",
       "      <td>3919</td>\n",
       "      <td>627</td>\n",
       "      <td>3619</td>\n",
       "      <td>477</td>\n",
       "      <td>181</td>\n",
       "    </tr>\n",
       "    <tr>\n",
       "      <th>3</th>\n",
       "      <td>1</td>\n",
       "      <td>0</td>\n",
       "      <td>0</td>\n",
       "      <td>2464</td>\n",
       "      <td>2222</td>\n",
       "      <td>2428</td>\n",
       "      <td>2338</td>\n",
       "      <td>2359</td>\n",
       "      <td>2457</td>\n",
       "      <td>2585</td>\n",
       "      <td>3919</td>\n",
       "      <td>627</td>\n",
       "      <td>3619</td>\n",
       "      <td>477</td>\n",
       "      <td>181</td>\n",
       "    </tr>\n",
       "    <tr>\n",
       "      <th>4</th>\n",
       "      <td>2</td>\n",
       "      <td>0</td>\n",
       "      <td>0</td>\n",
       "      <td>2455</td>\n",
       "      <td>2206</td>\n",
       "      <td>2416</td>\n",
       "      <td>2332</td>\n",
       "      <td>2360</td>\n",
       "      <td>2460</td>\n",
       "      <td>2578</td>\n",
       "      <td>2692</td>\n",
       "      <td>297</td>\n",
       "      <td>2786</td>\n",
       "      <td>3286</td>\n",
       "      <td>166</td>\n",
       "    </tr>\n",
       "    <tr>\n",
       "      <th>...</th>\n",
       "      <td>...</td>\n",
       "      <td>...</td>\n",
       "      <td>...</td>\n",
       "      <td>...</td>\n",
       "      <td>...</td>\n",
       "      <td>...</td>\n",
       "      <td>...</td>\n",
       "      <td>...</td>\n",
       "      <td>...</td>\n",
       "      <td>...</td>\n",
       "      <td>...</td>\n",
       "      <td>...</td>\n",
       "      <td>...</td>\n",
       "      <td>...</td>\n",
       "      <td>...</td>\n",
       "    </tr>\n",
       "    <tr>\n",
       "      <th>7855</th>\n",
       "      <td>77</td>\n",
       "      <td>49</td>\n",
       "      <td>0</td>\n",
       "      <td>876</td>\n",
       "      <td>784</td>\n",
       "      <td>904</td>\n",
       "      <td>813</td>\n",
       "      <td>843</td>\n",
       "      <td>886</td>\n",
       "      <td>930</td>\n",
       "      <td>3620</td>\n",
       "      <td>115</td>\n",
       "      <td>2363</td>\n",
       "      <td>1510</td>\n",
       "      <td>1041</td>\n",
       "    </tr>\n",
       "    <tr>\n",
       "      <th>7856</th>\n",
       "      <td>78</td>\n",
       "      <td>49</td>\n",
       "      <td>0</td>\n",
       "      <td>882</td>\n",
       "      <td>800</td>\n",
       "      <td>912</td>\n",
       "      <td>804</td>\n",
       "      <td>830</td>\n",
       "      <td>870</td>\n",
       "      <td>920</td>\n",
       "      <td>3837</td>\n",
       "      <td>152</td>\n",
       "      <td>2899</td>\n",
       "      <td>1721</td>\n",
       "      <td>1064</td>\n",
       "    </tr>\n",
       "    <tr>\n",
       "      <th>7857</th>\n",
       "      <td>78</td>\n",
       "      <td>49</td>\n",
       "      <td>0</td>\n",
       "      <td>882</td>\n",
       "      <td>800</td>\n",
       "      <td>912</td>\n",
       "      <td>804</td>\n",
       "      <td>830</td>\n",
       "      <td>870</td>\n",
       "      <td>920</td>\n",
       "      <td>3837</td>\n",
       "      <td>152</td>\n",
       "      <td>2899</td>\n",
       "      <td>1721</td>\n",
       "      <td>1064</td>\n",
       "    </tr>\n",
       "    <tr>\n",
       "      <th>7858</th>\n",
       "      <td>79</td>\n",
       "      <td>49</td>\n",
       "      <td>0</td>\n",
       "      <td>866</td>\n",
       "      <td>767</td>\n",
       "      <td>905</td>\n",
       "      <td>782</td>\n",
       "      <td>822</td>\n",
       "      <td>862</td>\n",
       "      <td>922</td>\n",
       "      <td>223</td>\n",
       "      <td>222</td>\n",
       "      <td>2946</td>\n",
       "      <td>2101</td>\n",
       "      <td>1074</td>\n",
       "    </tr>\n",
       "    <tr>\n",
       "      <th>7859</th>\n",
       "      <td>79</td>\n",
       "      <td>49</td>\n",
       "      <td>0</td>\n",
       "      <td>866</td>\n",
       "      <td>767</td>\n",
       "      <td>905</td>\n",
       "      <td>782</td>\n",
       "      <td>822</td>\n",
       "      <td>862</td>\n",
       "      <td>922</td>\n",
       "      <td>223</td>\n",
       "      <td>222</td>\n",
       "      <td>2946</td>\n",
       "      <td>2101</td>\n",
       "      <td>1074</td>\n",
       "    </tr>\n",
       "  </tbody>\n",
       "</table>\n",
       "<p>7859 rows × 15 columns</p>\n",
       "</div>"
      ],
      "text/plain": [
       "      Date  Symbol  Series  Prev Close  Open  High   Low  Last  Close  VWAP  \\\n",
       "0        0       0       0        2430  2187  2424  2316  2373   2466  2574   \n",
       "1        0       0       0        2430  2187  2424  2316  2373   2466  2574   \n",
       "2        1       0       0        2464  2222  2428  2338  2359   2457  2585   \n",
       "3        1       0       0        2464  2222  2428  2338  2359   2457  2585   \n",
       "4        2       0       0        2455  2206  2416  2332  2360   2460  2578   \n",
       "...    ...     ...     ...         ...   ...   ...   ...   ...    ...   ...   \n",
       "7855    77      49       0         876   784   904   813   843    886   930   \n",
       "7856    78      49       0         882   800   912   804   830    870   920   \n",
       "7857    78      49       0         882   800   912   804   830    870   920   \n",
       "7858    79      49       0         866   767   905   782   822    862   922   \n",
       "7859    79      49       0         866   767   905   782   822    862   922   \n",
       "\n",
       "      Volume  Turnover  Trades  Deliverable Volume  %Deliverble  \n",
       "0       3480       495    3381                3622           85  \n",
       "1       3480       495    3381                3622           85  \n",
       "2       3919       627    3619                 477          181  \n",
       "3       3919       627    3619                 477          181  \n",
       "4       2692       297    2786                3286          166  \n",
       "...      ...       ...     ...                 ...          ...  \n",
       "7855    3620       115    2363                1510         1041  \n",
       "7856    3837       152    2899                1721         1064  \n",
       "7857    3837       152    2899                1721         1064  \n",
       "7858     223       222    2946                2101         1074  \n",
       "7859     223       222    2946                2101         1074  \n",
       "\n",
       "[7859 rows x 15 columns]"
      ]
     },
     "execution_count": 21,
     "metadata": {},
     "output_type": "execute_result"
    }
   ],
   "source": [
    "clean_stock_data = stock_data[(z < 3).all(axis=1)]\n",
    "clean_stock_data"
   ]
  },
  {
   "cell_type": "code",
   "execution_count": 22,
   "metadata": {},
   "outputs": [
    {
     "name": "stdout",
     "output_type": "stream",
     "text": [
      "Dimension of dataframe after cleaning is (7859, 15)\n"
     ]
    }
   ],
   "source": [
    "print('Dimension of dataframe after cleaning is', clean_stock_data.shape)"
   ]
  },
  {
   "cell_type": "markdown",
   "metadata": {},
   "source": [
    "## Exploratory Data Analysis After Cleaning and Preprocessing - Visualization "
   ]
  },
  {
   "cell_type": "markdown",
   "metadata": {},
   "source": [
    "### Data Description "
   ]
  },
  {
   "cell_type": "code",
   "execution_count": 23,
   "metadata": {},
   "outputs": [],
   "source": [
    "stock_df = clean_stock_data"
   ]
  },
  {
   "cell_type": "code",
   "execution_count": 24,
   "metadata": {},
   "outputs": [
    {
     "data": {
      "text/html": [
       "<div>\n",
       "<style scoped>\n",
       "    .dataframe tbody tr th:only-of-type {\n",
       "        vertical-align: middle;\n",
       "    }\n",
       "\n",
       "    .dataframe tbody tr th {\n",
       "        vertical-align: top;\n",
       "    }\n",
       "\n",
       "    .dataframe thead th {\n",
       "        text-align: right;\n",
       "    }\n",
       "</style>\n",
       "<table border=\"1\" class=\"dataframe\">\n",
       "  <thead>\n",
       "    <tr style=\"text-align: right;\">\n",
       "      <th></th>\n",
       "      <th>Date</th>\n",
       "      <th>Symbol</th>\n",
       "      <th>Series</th>\n",
       "      <th>Prev Close</th>\n",
       "      <th>Open</th>\n",
       "      <th>High</th>\n",
       "      <th>Low</th>\n",
       "      <th>Last</th>\n",
       "      <th>Close</th>\n",
       "      <th>VWAP</th>\n",
       "      <th>Volume</th>\n",
       "      <th>Turnover</th>\n",
       "      <th>Trades</th>\n",
       "      <th>Deliverable Volume</th>\n",
       "      <th>%Deliverble</th>\n",
       "    </tr>\n",
       "  </thead>\n",
       "  <tbody>\n",
       "    <tr>\n",
       "      <th>count</th>\n",
       "      <td>7859.000000</td>\n",
       "      <td>7859.000000</td>\n",
       "      <td>7859.0</td>\n",
       "      <td>7859.000000</td>\n",
       "      <td>7859.000000</td>\n",
       "      <td>7859.000000</td>\n",
       "      <td>7859.000000</td>\n",
       "      <td>7859.000000</td>\n",
       "      <td>7859.000000</td>\n",
       "      <td>7859.000000</td>\n",
       "      <td>7859.000000</td>\n",
       "      <td>7859.000000</td>\n",
       "      <td>7859.000000</td>\n",
       "      <td>7859.000000</td>\n",
       "      <td>7859.000000</td>\n",
       "    </tr>\n",
       "    <tr>\n",
       "      <th>mean</th>\n",
       "      <td>39.595496</td>\n",
       "      <td>24.167324</td>\n",
       "      <td>0.0</td>\n",
       "      <td>1846.554269</td>\n",
       "      <td>1650.467617</td>\n",
       "      <td>1777.409212</td>\n",
       "      <td>1783.672223</td>\n",
       "      <td>1776.079908</td>\n",
       "      <td>1846.403614</td>\n",
       "      <td>1939.583026</td>\n",
       "      <td>1959.175086</td>\n",
       "      <td>418.404377</td>\n",
       "      <td>1951.273953</td>\n",
       "      <td>1960.317725</td>\n",
       "      <td>1320.727319</td>\n",
       "    </tr>\n",
       "    <tr>\n",
       "      <th>std</th>\n",
       "      <td>23.147180</td>\n",
       "      <td>14.431736</td>\n",
       "      <td>0.0</td>\n",
       "      <td>1078.598115</td>\n",
       "      <td>969.714254</td>\n",
       "      <td>1041.156220</td>\n",
       "      <td>1044.168182</td>\n",
       "      <td>1044.471259</td>\n",
       "      <td>1079.505942</td>\n",
       "      <td>1124.618347</td>\n",
       "      <td>1131.771394</td>\n",
       "      <td>295.970149</td>\n",
       "      <td>1124.975549</td>\n",
       "      <td>1131.598326</td>\n",
       "      <td>742.589115</td>\n",
       "    </tr>\n",
       "    <tr>\n",
       "      <th>min</th>\n",
       "      <td>0.000000</td>\n",
       "      <td>0.000000</td>\n",
       "      <td>0.0</td>\n",
       "      <td>0.000000</td>\n",
       "      <td>0.000000</td>\n",
       "      <td>0.000000</td>\n",
       "      <td>0.000000</td>\n",
       "      <td>0.000000</td>\n",
       "      <td>0.000000</td>\n",
       "      <td>0.000000</td>\n",
       "      <td>0.000000</td>\n",
       "      <td>0.000000</td>\n",
       "      <td>0.000000</td>\n",
       "      <td>0.000000</td>\n",
       "      <td>1.000000</td>\n",
       "    </tr>\n",
       "    <tr>\n",
       "      <th>25%</th>\n",
       "      <td>20.000000</td>\n",
       "      <td>12.000000</td>\n",
       "      <td>0.0</td>\n",
       "      <td>922.500000</td>\n",
       "      <td>818.500000</td>\n",
       "      <td>885.500000</td>\n",
       "      <td>886.500000</td>\n",
       "      <td>880.500000</td>\n",
       "      <td>921.500000</td>\n",
       "      <td>965.500000</td>\n",
       "      <td>979.000000</td>\n",
       "      <td>160.000000</td>\n",
       "      <td>976.000000</td>\n",
       "      <td>981.000000</td>\n",
       "      <td>692.500000</td>\n",
       "    </tr>\n",
       "    <tr>\n",
       "      <th>50%</th>\n",
       "      <td>40.000000</td>\n",
       "      <td>24.000000</td>\n",
       "      <td>0.0</td>\n",
       "      <td>1847.000000</td>\n",
       "      <td>1651.000000</td>\n",
       "      <td>1768.000000</td>\n",
       "      <td>1779.000000</td>\n",
       "      <td>1761.000000</td>\n",
       "      <td>1845.000000</td>\n",
       "      <td>1940.000000</td>\n",
       "      <td>1959.000000</td>\n",
       "      <td>377.000000</td>\n",
       "      <td>1956.000000</td>\n",
       "      <td>1960.000000</td>\n",
       "      <td>1300.000000</td>\n",
       "    </tr>\n",
       "    <tr>\n",
       "      <th>75%</th>\n",
       "      <td>60.000000</td>\n",
       "      <td>36.000000</td>\n",
       "      <td>0.0</td>\n",
       "      <td>2781.000000</td>\n",
       "      <td>2499.000000</td>\n",
       "      <td>2684.000000</td>\n",
       "      <td>2686.000000</td>\n",
       "      <td>2682.000000</td>\n",
       "      <td>2782.000000</td>\n",
       "      <td>2915.000000</td>\n",
       "      <td>2940.000000</td>\n",
       "      <td>633.000000</td>\n",
       "      <td>2924.000000</td>\n",
       "      <td>2941.000000</td>\n",
       "      <td>1935.000000</td>\n",
       "    </tr>\n",
       "    <tr>\n",
       "      <th>max</th>\n",
       "      <td>79.000000</td>\n",
       "      <td>49.000000</td>\n",
       "      <td>0.0</td>\n",
       "      <td>3701.000000</td>\n",
       "      <td>3304.000000</td>\n",
       "      <td>3579.000000</td>\n",
       "      <td>3581.000000</td>\n",
       "      <td>3580.000000</td>\n",
       "      <td>3703.000000</td>\n",
       "      <td>3881.000000</td>\n",
       "      <td>3919.000000</td>\n",
       "      <td>1090.000000</td>\n",
       "      <td>3893.000000</td>\n",
       "      <td>3919.000000</td>\n",
       "      <td>2714.000000</td>\n",
       "    </tr>\n",
       "  </tbody>\n",
       "</table>\n",
       "</div>"
      ],
      "text/plain": [
       "              Date       Symbol  Series   Prev Close         Open  \\\n",
       "count  7859.000000  7859.000000  7859.0  7859.000000  7859.000000   \n",
       "mean     39.595496    24.167324     0.0  1846.554269  1650.467617   \n",
       "std      23.147180    14.431736     0.0  1078.598115   969.714254   \n",
       "min       0.000000     0.000000     0.0     0.000000     0.000000   \n",
       "25%      20.000000    12.000000     0.0   922.500000   818.500000   \n",
       "50%      40.000000    24.000000     0.0  1847.000000  1651.000000   \n",
       "75%      60.000000    36.000000     0.0  2781.000000  2499.000000   \n",
       "max      79.000000    49.000000     0.0  3701.000000  3304.000000   \n",
       "\n",
       "              High          Low         Last        Close         VWAP  \\\n",
       "count  7859.000000  7859.000000  7859.000000  7859.000000  7859.000000   \n",
       "mean   1777.409212  1783.672223  1776.079908  1846.403614  1939.583026   \n",
       "std    1041.156220  1044.168182  1044.471259  1079.505942  1124.618347   \n",
       "min       0.000000     0.000000     0.000000     0.000000     0.000000   \n",
       "25%     885.500000   886.500000   880.500000   921.500000   965.500000   \n",
       "50%    1768.000000  1779.000000  1761.000000  1845.000000  1940.000000   \n",
       "75%    2684.000000  2686.000000  2682.000000  2782.000000  2915.000000   \n",
       "max    3579.000000  3581.000000  3580.000000  3703.000000  3881.000000   \n",
       "\n",
       "            Volume     Turnover       Trades  Deliverable Volume  %Deliverble  \n",
       "count  7859.000000  7859.000000  7859.000000         7859.000000  7859.000000  \n",
       "mean   1959.175086   418.404377  1951.273953         1960.317725  1320.727319  \n",
       "std    1131.771394   295.970149  1124.975549         1131.598326   742.589115  \n",
       "min       0.000000     0.000000     0.000000            0.000000     1.000000  \n",
       "25%     979.000000   160.000000   976.000000          981.000000   692.500000  \n",
       "50%    1959.000000   377.000000  1956.000000         1960.000000  1300.000000  \n",
       "75%    2940.000000   633.000000  2924.000000         2941.000000  1935.000000  \n",
       "max    3919.000000  1090.000000  3893.000000         3919.000000  2714.000000  "
      ]
     },
     "execution_count": 24,
     "metadata": {},
     "output_type": "execute_result"
    }
   ],
   "source": [
    "stock_df.describe()"
   ]
  },
  {
   "cell_type": "markdown",
   "metadata": {},
   "source": [
    "## Class Distribution"
   ]
  },
  {
   "cell_type": "code",
   "execution_count": 25,
   "metadata": {},
   "outputs": [
    {
     "data": {
      "text/plain": [
       "3550    8\n",
       "2707    8\n",
       "1140    8\n",
       "1068    8\n",
       "777     6\n",
       "       ..\n",
       "1090    2\n",
       "3135    2\n",
       "1086    2\n",
       "3131    2\n",
       "0       2\n",
       "Name: High, Length: 3580, dtype: int64"
      ]
     },
     "execution_count": 25,
     "metadata": {},
     "output_type": "execute_result"
    }
   ],
   "source": [
    "stock_df['High'].value_counts()"
   ]
  },
  {
   "cell_type": "code",
   "execution_count": 26,
   "metadata": {},
   "outputs": [
    {
     "data": {
      "text/plain": [
       "Date                    80\n",
       "Symbol                  49\n",
       "Series                   1\n",
       "Prev Close            3702\n",
       "Open                  3305\n",
       "High                  3580\n",
       "Low                   3582\n",
       "Last                  3581\n",
       "Close                 3704\n",
       "VWAP                  3882\n",
       "Volume                3920\n",
       "Turnover              1091\n",
       "Trades                3894\n",
       "Deliverable Volume    3920\n",
       "%Deliverble           2714\n",
       "dtype: int64"
      ]
     },
     "execution_count": 26,
     "metadata": {},
     "output_type": "execute_result"
    }
   ],
   "source": [
    "stock_df.nunique()"
   ]
  },
  {
   "cell_type": "code",
   "execution_count": 27,
   "metadata": {},
   "outputs": [
    {
     "data": {
      "image/png": "[encoded data removed]",
      "text/plain": [
       "<Figure size 432x288 with 1 Axes>"
      ]
     },
     "metadata": {
      "needs_background": "light"
     },
     "output_type": "display_data"
    }
   ],
   "source": [
    "sns.countplot(x = 'High', data = stock_df, palette=\"Set1\")\n",
    "plt.show()"
   ]
  },
  {
   "cell_type": "markdown",
   "metadata": {},
   "source": [
    "### Histograms "
   ]
  },
  {
   "cell_type": "code",
   "execution_count": 28,
   "metadata": {
    "scrolled": true
   },
   "outputs": [],
   "source": [
    "# fig, axs = plt.subplots(1, 2, figsize=(10, 5))\n",
    "\n",
    "# sns.histplot(data=stock_df, x = 'High', discrete = True, ax = axs[0]);\n",
    "# sns.histplot(data=stock_df, x = 'Open', discrete = True, ax = axs[1]);"
   ]
  },
  {
   "cell_type": "code",
   "execution_count": null,
   "metadata": {},
   "outputs": [],
   "source": []
  },
  {
   "cell_type": "code",
   "execution_count": null,
   "metadata": {},
   "outputs": [],
   "source": []
  },
  {
   "cell_type": "code",
   "execution_count": null,
   "metadata": {},
   "outputs": [],
   "source": []
  },
  {
   "cell_type": "code",
   "execution_count": null,
   "metadata": {},
   "outputs": [],
   "source": []
  },
  {
   "cell_type": "code",
   "execution_count": null,
   "metadata": {},
   "outputs": [],
   "source": []
  },
  {
   "cell_type": "code",
   "execution_count": 29,
   "metadata": {},
   "outputs": [],
   "source": [
    "# #plot close price\n",
    "# plt.figure(figsize=(10,6))\n",
    "# plt.grid(True)\n",
    "# plt.xlabel('Date')\n",
    "# plt.ylabel('Close Prices')\n",
    "# plt.plot(stock_data['Close'])\n",
    "# plt.title('Stocks')\n",
    "# plt.show()"
   ]
  },
  {
   "cell_type": "code",
   "execution_count": null,
   "metadata": {},
   "outputs": [],
   "source": []
  },
  {
   "cell_type": "code",
   "execution_count": null,
   "metadata": {},
   "outputs": [],
   "source": []
  },
  {
   "cell_type": "code",
   "execution_count": null,
   "metadata": {},
   "outputs": [],
   "source": []
  },
  {
   "cell_type": "code",
   "execution_count": null,
   "metadata": {},
   "outputs": [],
   "source": []
  },
  {
   "cell_type": "code",
   "execution_count": null,
   "metadata": {},
   "outputs": [],
   "source": []
  },
  {
   "cell_type": "code",
   "execution_count": null,
   "metadata": {},
   "outputs": [],
   "source": []
  },
  {
   "cell_type": "code",
   "execution_count": null,
   "metadata": {},
   "outputs": [],
   "source": []
  }
 ],
 "metadata": {
  "kernelspec": {
   "display_name": "Python 3 (ipykernel)",
   "language": "python",
   "name": "python3"
  },
  "language_info": {
   "codemirror_mode": {
    "name": "ipython",
    "version": 3
   },
   "file_extension": ".py",
   "mimetype": "text/x-python",
   "name": "python",
   "nbconvert_exporter": "python",
   "pygments_lexer": "ipython3",
   "version": "3.8.3"
  }
 },
 "nbformat": 4,
 "nbformat_minor": 4
}
